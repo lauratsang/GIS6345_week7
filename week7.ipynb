{
 "cells": [
  {
   "cell_type": "code",
   "execution_count": null,
   "metadata": {},
   "outputs": [],
   "source": [
    "'''Write a function called sed that takes as arguments a pattern string, a replacement\n",
    "string, and two filenames; it should read the first file and write the contents into the second file\n",
    "(creating it if necessary). If the pattern string appears anywhere in the file, it should be replaced\n",
    "with the replacement string.'''"
   ]
  },
  {
   "cell_type": "code",
   "execution_count": 8,
   "metadata": {},
   "outputs": [],
   "source": [
    "import sys\n",
    "import os\n",
    "import argparse"
   ]
  },
  {
   "cell_type": "code",
   "execution_count": 9,
   "metadata": {},
   "outputs": [],
   "source": [
    "def walk(dir):\n",
    "# Create a list to story names of discovered files\n",
    "    list_of_names = []\n",
    "    for name in os.listdir(dir):\n",
    "        path = os.path.join(dir, name)\n",
    "\n",
    "        if os.path.isfile(path):\n",
    "            list_of_names.append(path)\n",
    "        else:\n",
    "            walk(path)\n",
    "    return list_of_names"
   ]
  },
  {
   "cell_type": "code",
   "execution_count": 16,
   "metadata": {
    "scrolled": true
   },
   "outputs": [
    {
     "name": "stderr",
     "output_type": "stream",
     "text": [
      "usage: ipykernel_launcher.py [-h] dir\n",
      "ipykernel_launcher.py: error: unrecognized arguments: -f\n"
     ]
    },
    {
     "ename": "SystemExit",
     "evalue": "2",
     "output_type": "error",
     "traceback": [
      "An exception has occurred, use %tb to see the full traceback.\n",
      "\u001b[0;31mSystemExit\u001b[0m\u001b[0;31m:\u001b[0m 2\n"
     ]
    }
   ],
   "source": [
    "def main():\n",
    "    parser = argparse.ArgumentParser()\n",
    "    parser.add_argument(\"dir\", help=\"The target directory of walk function\")\n",
    "    args = parser.parse_args()\n",
    "    dir_name = args.dir\n",
    "    file_list = walk(dir_name)\n",
    "    print (file_list)\n",
    "if __name__ == '__main__':\n",
    "    main()\n",
    "    \n",
    "# I had some trouble creating the path to the file of names\n"
   ]
  }
 ],
 "metadata": {
  "kernelspec": {
   "display_name": "Python 3",
   "language": "python",
   "name": "python3"
  },
  "language_info": {
   "codemirror_mode": {
    "name": "ipython",
    "version": 3
   },
   "file_extension": ".py",
   "mimetype": "text/x-python",
   "name": "python",
   "nbconvert_exporter": "python",
   "pygments_lexer": "ipython3",
   "version": "3.7.4"
  }
 },
 "nbformat": 4,
 "nbformat_minor": 2
}
